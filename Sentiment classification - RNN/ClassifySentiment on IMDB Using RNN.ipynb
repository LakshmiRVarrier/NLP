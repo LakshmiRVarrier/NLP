{
 "cells": [
  {
   "cell_type": "markdown",
   "metadata": {},
   "source": [
    "## Using RNNs to classify sentiment on IMDB data\n",
    "\n",
    "In this assignment,you will train three types of RNNs:  \"vanilla\" RNN, LSTM and GRU to predict the sentiment on IMDB reviews.  \n",
    "\n",
    "Keras provides a convenient interface to load the data and immediately encode the words into integers (based on the most common words). \n",
    "This will save you a lot of the drudgery that is usually involved when working with raw text.\n",
    "\n",
    "The IMDB is  data consists of 25000 training sequences and 25000 test sequences. \n",
    "The outcome is binary (positive/negative) and both outcomes are equally represented in both the training and the test set.\n",
    "\n",
    "\n",
    "\n",
    "Walk through the followinng steps to prepare the data and the building of an RNN model. "
   ]
  },
  {
   "cell_type": "markdown",
   "metadata": {},
   "source": [
    "#### Import Libraries"
   ]
  },
  {
   "cell_type": "code",
   "execution_count": 182,
   "metadata": {
    "scrolled": true
   },
   "outputs": [],
   "source": [
    "import matplotlib.pyplot as plt\n",
    "from keras.datasets import imdb\n",
    "from keras.preprocessing import sequence\n",
    "from tensorflow.keras import optimizers\n",
    "from keras import initializers\n",
    "from keras.layers import Dense\n",
    "from keras.models import Sequential\n",
    "from keras.layers import Embedding, SimpleRNN\n",
    "from keras.layers import LSTM\n",
    "import timeit\n",
    "from keras.layers.recurrent import GRU\n",
    "from numpy.random import seed"
   ]
  },
  {
   "cell_type": "code",
   "execution_count": 183,
   "metadata": {},
   "outputs": [],
   "source": [
    "# set a seed for a reproducible results \n",
    "seed(50)"
   ]
  },
  {
   "cell_type": "markdown",
   "metadata": {},
   "source": [
    "1- Use the `imdb.load_data()` to load in the data "
   ]
  },
  {
   "cell_type": "markdown",
   "metadata": {},
   "source": [
    "2- Specify the maximum length of a sequence to 20000 words and the pick the most common words to 30. "
   ]
  },
  {
   "cell_type": "code",
   "execution_count": 184,
   "metadata": {},
   "outputs": [],
   "source": [
    "max_features = 20000  # number of words to consider as features\n",
    "maxlen = 30  # cut texts after this number of words (among top max_features most common words)\n",
    "batch_size = 32"
   ]
  },
  {
   "cell_type": "code",
   "execution_count": 185,
   "metadata": {},
   "outputs": [],
   "source": [
    "#print('Loading data...')\n",
    "(x_train, y_train), (x_test, y_test) = imdb.load_data(num_words=max_features)\n"
   ]
  },
  {
   "cell_type": "code",
   "execution_count": 186,
   "metadata": {},
   "outputs": [
    {
     "name": "stdout",
     "output_type": "stream",
     "text": [
      "Loaded dataset with 25000 training samples, 25000 test samples\n"
     ]
    }
   ],
   "source": [
    "print('Loaded dataset with {} training samples, {} test samples'.format(len(x_train), len(x_test)))"
   ]
  },
  {
   "cell_type": "markdown",
   "metadata": {},
   "source": [
    "3- Check that the number of sequences in train and test datasets are equal (default split):\n",
    "    \n",
    "Expected output:\n",
    "- `x_train = 25000 train sequences`\n",
    "\n",
    "- `x_test = 25000 test sequences`"
   ]
  },
  {
   "cell_type": "code",
   "execution_count": 187,
   "metadata": {},
   "outputs": [
    {
     "name": "stdout",
     "output_type": "stream",
     "text": [
      "25000 train sequences\n",
      "25000 test sequences\n"
     ]
    }
   ],
   "source": [
    "print(len(x_train), 'train sequences')\n",
    "print(len(x_test), 'test sequences')\n"
   ]
  },
  {
   "cell_type": "markdown",
   "metadata": {},
   "source": [
    "4- Pad (or truncate) the sequences so that they are of the maximum length"
   ]
  },
  {
   "cell_type": "code",
   "execution_count": 188,
   "metadata": {},
   "outputs": [],
   "source": [
    "def pad_seq(x_train,x_test,maxlen):\n",
    "    print('Pad sequences (samples x time)')\n",
    "    x_train = sequence.pad_sequences(x_train, maxlen=maxlen)\n",
    "    x_test = sequence.pad_sequences(x_test, maxlen=maxlen)\n",
    "    \n",
    "    return x_train,x_test"
   ]
  },
  {
   "cell_type": "markdown",
   "metadata": {},
   "source": [
    "5- After padding or truncating, check the dimensionality of x_train and x_test.\n",
    "\n",
    "Expected output:\n",
    "- `x_train shape: (25000, 30)`\n",
    "- `x_test shape: (25000, 30)`"
   ]
  },
  {
   "cell_type": "code",
   "execution_count": 189,
   "metadata": {},
   "outputs": [
    {
     "name": "stdout",
     "output_type": "stream",
     "text": [
      "Pad sequences (samples x time)\n",
      "x_train shape: (25000, 30)\n",
      "x_test shape: (25000, 30)\n"
     ]
    }
   ],
   "source": [
    "#Copy x_train and x_test to x_train1 and x_test1 for the building the first model with maxlen = 30\n",
    "\n",
    "x_train1,x_test1 = pad_seq(x_train,x_test,maxlen)\n",
    "print('x_train shape:', x_train1.shape)\n",
    "print('x_test shape:', x_test1.shape)"
   ]
  },
  {
   "cell_type": "code",
   "execution_count": 190,
   "metadata": {},
   "outputs": [
    {
     "name": "stdout",
     "output_type": "stream",
     "text": [
      "[ 665   71  270   56    5   13  197   12  161 5390   99   76   23    2\n",
      "    7  419  665   40   91   85  108    7    4 2084    5 4773   81   55\n",
      "   52 1901]\n",
      "1\n"
     ]
    }
   ],
   "source": [
    "print(x_train1[6])\n",
    "print(y_train[6])"
   ]
  },
  {
   "cell_type": "markdown",
   "metadata": {},
   "source": [
    "## Keras layers for (Vanilla) RNNs\n",
    "\n",
    "In this step, you will not use pre-trained word vectors, Instead you will learn an embedding as part of the  the Vanilla  RNNs network  Neural Network. \n",
    "\n",
    "In the Keras API documentation, the Embedding Layer and the SimpleRNN Layer have the following syntax:\n",
    "\n",
    "### Embedding Layer\n",
    "`keras.layers.embeddings.Embedding(input_dim, output_dim, embeddings_initializer='uniform', embeddings_regularizer=None, activity_regularizer=None, embeddings_constraint=None, mask_zero=False, input_length=None)`\n",
    "\n",
    "- This layer maps each integer into a distinct (dense) word vector of length `output_dim`.\n",
    "- Can think of this as learning a word vector embedding \"on the fly\" rather than using an existing mapping (like GloVe)\n",
    "- The `input_dim` should be the size of the vocabulary.\n",
    "- The `input_length` specifies the length of the sequences that the network expects.\n",
    "\n",
    "### SimpleRNN Layer\n",
    "`keras.layers.recurrent.SimpleRNN(units, activation='tanh', use_bias=True, kernel_initializer='glorot_uniform', recurrent_initializer='orthogonal', bias_initializer='zeros', kernel_regularizer=None, recurrent_regularizer=None, bias_regularizer=None, activity_regularizer=None, kernel_constraint=None, recurrent_constraint=None, bias_constraint=None, dropout=0.0, recurrent_dropout=0.0)`\n",
    "\n",
    "- This is the basic RNN, where the output is also fed back as the \"hidden state\" to the next iteration.\n",
    "- The parameter `units` gives the dimensionality of the output (and therefore the hidden state).  Note that typically there will be another layer after the RNN mapping the (RNN) output to the network output.  So we should think of this value as the desired dimensionality of the hidden state and not necessarily the desired output of the network.\n",
    "- Recall that there are two sets of weights, one for the \"recurrent\" phase and the other for the \"kernel\" phase.  These can be configured separately in terms of their initialization, regularization, etc.\n",
    "\n",
    "\n",
    "\n",
    "\n"
   ]
  },
  {
   "cell_type": "markdown",
   "metadata": {},
   "source": [
    "6- Build the RNN with three layers: \n",
    "- The SimpleRNN layer with 5 neurons and initialize its kernel with stddev=0.001\n",
    "\n",
    "- The Embedding layer and initialize it by setting the word embedding dimension to 50. This means that this layer takes each integer in the sequence and embeds it in a 50-dimensional vector.\n",
    "\n",
    "-  The output layer has the sigmoid activation function."
   ]
  },
  {
   "cell_type": "code",
   "execution_count": 191,
   "metadata": {},
   "outputs": [],
   "source": [
    "# Function to create a baseline model\n",
    "\n",
    "def RNN_model(max_features,embedding_dim, maxlen):\n",
    "    model = Sequential()\n",
    "    model.add(Embedding(max_features,embedding_dim, input_length=maxlen))\n",
    "    model.add(SimpleRNN(5,activation='tanh',kernel_initializer=initializers.random_normal(stddev=0.001)))\n",
    "    model.add(Dense(1, activation='sigmoid'))\n",
    "    \n",
    "    model.compile(optimizer=optimizers.RMSprop(learning_rate=0.0001), \n",
    "                   loss='binary_crossentropy', \n",
    "                   metrics=['acc'])\n",
    "\n",
    "    return model\n"
   ]
  },
  {
   "cell_type": "markdown",
   "metadata": {},
   "source": [
    "### Build the baseline model with embedding dimension as 50 and optimizer as RMSprop with learning rate of .0001"
   ]
  },
  {
   "cell_type": "code",
   "execution_count": 192,
   "metadata": {},
   "outputs": [],
   "source": [
    "# a list to save all trained models in thr list, called models, to be used later to plot accuracies\n",
    "models = []\n"
   ]
  },
  {
   "cell_type": "code",
   "execution_count": 193,
   "metadata": {},
   "outputs": [],
   "source": [
    "embedding_dim = 50\n",
    "\n",
    "model1 = RNN_model(max_features,embedding_dim, maxlen)\n"
   ]
  },
  {
   "cell_type": "markdown",
   "metadata": {},
   "source": [
    "7- How many parameters have the embedding layer?"
   ]
  },
  {
   "cell_type": "code",
   "execution_count": 194,
   "metadata": {},
   "outputs": [
    {
     "name": "stdout",
     "output_type": "stream",
     "text": [
      "Model: \"sequential_21\"\n",
      "_________________________________________________________________\n",
      " Layer (type)                Output Shape              Param #   \n",
      "=================================================================\n",
      " embedding_21 (Embedding)    (None, 30, 50)            1000000   \n",
      "                                                                 \n",
      " simple_rnn_17 (SimpleRNN)   (None, 5)                 280       \n",
      "                                                                 \n",
      " dense_25 (Dense)            (None, 1)                 6         \n",
      "                                                                 \n",
      "=================================================================\n",
      "Total params: 1,000,286\n",
      "Trainable params: 1,000,286\n",
      "Non-trainable params: 0\n",
      "_________________________________________________________________\n"
     ]
    }
   ],
   "source": [
    "model1.summary()"
   ]
  },
  {
   "cell_type": "code",
   "execution_count": 195,
   "metadata": {},
   "outputs": [
    {
     "data": {
      "text/plain": [
       "1000286"
      ]
     },
     "execution_count": 195,
     "metadata": {},
     "output_type": "execute_result"
    }
   ],
   "source": [
    "model1.count_params()"
   ]
  },
  {
   "cell_type": "markdown",
   "metadata": {},
   "source": [
    " There are a total of 1,000,286 parameters in this model with embedding layer having 1,000,000 parameters"
   ]
  },
  {
   "cell_type": "markdown",
   "metadata": {},
   "source": [
    "8- Train the network with the RMSprop with learning rate of .0001 and epochs=10."
   ]
  },
  {
   "cell_type": "code",
   "execution_count": 196,
   "metadata": {},
   "outputs": [
    {
     "name": "stdout",
     "output_type": "stream",
     "text": [
      "Epoch 1/10\n",
      "625/625 [==============================] - 47s 75ms/step - loss: 0.6837 - acc: 0.5905 - val_loss: 0.6608 - val_acc: 0.6484\n",
      "Epoch 2/10\n",
      "625/625 [==============================] - 47s 75ms/step - loss: 0.6397 - acc: 0.6744 - val_loss: 0.6358 - val_acc: 0.6660\n",
      "Epoch 3/10\n",
      "625/625 [==============================] - 47s 75ms/step - loss: 0.6108 - acc: 0.7102 - val_loss: 0.6221 - val_acc: 0.6730\n",
      "Epoch 4/10\n",
      "625/625 [==============================] - 47s 75ms/step - loss: 0.5869 - acc: 0.7323 - val_loss: 0.6056 - val_acc: 0.6960\n",
      "Epoch 5/10\n",
      "625/625 [==============================] - 49s 78ms/step - loss: 0.5644 - acc: 0.7540 - val_loss: 0.5923 - val_acc: 0.7072\n",
      "Epoch 6/10\n",
      "625/625 [==============================] - 46s 73ms/step - loss: 0.5429 - acc: 0.7681 - val_loss: 0.5773 - val_acc: 0.7180\n",
      "Epoch 7/10\n",
      "625/625 [==============================] - 47s 75ms/step - loss: 0.5206 - acc: 0.7856 - val_loss: 0.5637 - val_acc: 0.7238\n",
      "Epoch 8/10\n",
      "625/625 [==============================] - 47s 76ms/step - loss: 0.4977 - acc: 0.7983 - val_loss: 0.5500 - val_acc: 0.7324\n",
      "Epoch 9/10\n",
      "625/625 [==============================] - 49s 78ms/step - loss: 0.4752 - acc: 0.8097 - val_loss: 0.5377 - val_acc: 0.7400\n",
      "Epoch 10/10\n",
      "625/625 [==============================] - 48s 77ms/step - loss: 0.4531 - acc: 0.8201 - val_loss: 0.5264 - val_acc: 0.7462\n"
     ]
    }
   ],
   "source": [
    "history1 = model1.fit(x_train1, y_train,\n",
    "                    epochs=10,\n",
    "                    batch_size=32,\n",
    "                    validation_split=0.2)"
   ]
  },
  {
   "cell_type": "markdown",
   "metadata": {},
   "source": [
    "9- PLot the loss and accuracy metrics during the training and interpret the result."
   ]
  },
  {
   "cell_type": "code",
   "execution_count": 197,
   "metadata": {},
   "outputs": [],
   "source": [
    "# Function to plot accuracy and loss of the model\n",
    "\n",
    "def accuracy_loss_plot(history):\n",
    "    acc=history.history['acc']\n",
    "    val_acc = history.history['val_acc']\n",
    "    \n",
    "    plt.plot(acc)\n",
    "    plt.plot(val_acc)\n",
    "    plt.title('Model Accuracy')\n",
    "    plt.ylabel('Accuracy')\n",
    "    plt.xlabel('Epoch')\n",
    "    \n",
    "    accuracy = acc[-1]  # oraccuracy= np.mean(acc) \n",
    "    accuracy_percentage = str(\"{:.3f}\".format(accuracy))   \n",
    "\n",
    "    val_accuracy = val_acc[-1]  # or val_accuracy=np.mean(val_acc) \n",
    "    val_accuracy_percentage =  str(\"{:.3f}\".format(val_accuracy))\n",
    "                                                           \n",
    "    plt.legend(['Train Accuracy: '+ accuracy_percentage, 'Validation Accuracy: '+ val_accuracy_percentage], loc='upper left')\n",
    "    plt.show()\n",
    "    \n",
    "    \n",
    "    loss=history.history['loss']\n",
    "    val_loss=history.history['val_loss']\n",
    "    plt.plot(loss)\n",
    "    plt.plot(val_loss)\n",
    "    \n",
    "    plt.title('Model Loss')\n",
    "    plt.ylabel('Loss')\n",
    "    plt.xlabel('Epoch')\n",
    "    \n",
    "    loss = loss[-1] # np.mean(history['loss'])\n",
    "    loss_percentage =  str(\"{:.3f}\".format(loss))   \n",
    "   \n",
    "    val_loss = val_loss[-1] #np.mean(history['val_loss'])\n",
    "    val_loss_percentage =  str(\"{:.3f}\".format(val_loss))\n",
    "    \n",
    "    plt.legend(['Training Loss: '+loss_percentage, 'Validation Loss: '+val_loss_percentage], loc='upper left')\n",
    "    plt.show()\n",
    "    \n",
    "   "
   ]
  },
  {
   "cell_type": "code",
   "execution_count": 198,
   "metadata": {},
   "outputs": [
    {
     "data": {
      "image/png": "[encoded data removed]",
      "text/plain": [
       "<Figure size 432x288 with 1 Axes>"
      ]
     },
     "metadata": {
      "needs_background": "light"
     },
     "output_type": "display_data"
    },
    {
     "data": {
      "image/png": "[encoded data removed]",
      "text/plain": [
       "<Figure size 432x288 with 1 Axes>"
      ]
     },
     "metadata": {
      "needs_background": "light"
     },
     "output_type": "display_data"
    }
   ],
   "source": [
    "accuracy_loss_plot(history1)"
   ]
  },
  {
   "cell_type": "markdown",
   "metadata": {},
   "source": [
    " The training accuracy reaches around 82% where as the validation is only 74%. So, the model is overfitting. "
   ]
  },
  {
   "cell_type": "markdown",
   "metadata": {},
   "source": [
    "10- Check the accuracy and the loss of your models on the test dataset."
   ]
  },
  {
   "cell_type": "code",
   "execution_count": 199,
   "metadata": {},
   "outputs": [
    {
     "name": "stdout",
     "output_type": "stream",
     "text": [
      "782/782 [==============================] - 9s 12ms/step - loss: 0.5216 - acc: 0.7486: 1s - l\n"
     ]
    }
   ],
   "source": [
    "#Evaluate the accuracy on test\n",
    "m1 = model1.evaluate(x_test1, y_test)\n"
   ]
  },
  {
   "cell_type": "code",
   "execution_count": 200,
   "metadata": {},
   "outputs": [
    {
     "name": "stdout",
     "output_type": "stream",
     "text": [
      "Accuracy Testing dataset: 74.86\n"
     ]
    },
    {
     "data": {
      "text/plain": [
       "[['BaselineModel_Maxlen_30: ', 74.86400008201599]]"
      ]
     },
     "execution_count": 200,
     "metadata": {},
     "output_type": "execute_result"
    }
   ],
   "source": [
    "# Evaluate performance of the test dataset\n",
    "accuracy = m1[1] *100\n",
    "print('Accuracy Testing dataset: %.2f' % accuracy)\n",
    "models.append(['BaselineModel_Maxlen_30: ',m1[1]*100])\n",
    "models"
   ]
  },
  {
   "cell_type": "markdown",
   "metadata": {},
   "source": [
    "Testing accuracy is 74% which is almost the same as the validation accuracy. "
   ]
  },
  {
   "cell_type": "markdown",
   "metadata": {},
   "source": [
    "## Tuning The Vanilla RNN Network\n"
   ]
  },
  {
   "cell_type": "markdown",
   "metadata": {},
   "source": [
    "### Model 2 with maxlen  = 80"
   ]
  },
  {
   "cell_type": "markdown",
   "metadata": {},
   "source": [
    "11- Prepare the data to use sequences of length 80 rather than length 30 and retrain your model.  Did it improve the performance?\n"
   ]
  },
  {
   "cell_type": "code",
   "execution_count": 201,
   "metadata": {},
   "outputs": [
    {
     "name": "stdout",
     "output_type": "stream",
     "text": [
      "Pad sequences (samples x time)\n"
     ]
    }
   ],
   "source": [
    "maxlen = 80 # Changing the maxlen to 80\n",
    "\n",
    "(x_train, y_train), (x_test, y_test) = imdb.load_data(num_words=max_features)\n",
    "\n",
    "x_train2, x_test2 = pad_seq(x_train,x_test, maxlen)\n",
    "model2 = RNN_model(max_features,embedding_dim, maxlen)\n"
   ]
  },
  {
   "cell_type": "code",
   "execution_count": 202,
   "metadata": {},
   "outputs": [
    {
     "name": "stdout",
     "output_type": "stream",
     "text": [
      "Model: \"sequential_22\"\n",
      "_________________________________________________________________\n",
      " Layer (type)                Output Shape              Param #   \n",
      "=================================================================\n",
      " embedding_22 (Embedding)    (None, 80, 50)            1000000   \n",
      "                                                                 \n",
      " simple_rnn_18 (SimpleRNN)   (None, 5)                 280       \n",
      "                                                                 \n",
      " dense_26 (Dense)            (None, 1)                 6         \n",
      "                                                                 \n",
      "=================================================================\n",
      "Total params: 1,000,286\n",
      "Trainable params: 1,000,286\n",
      "Non-trainable params: 0\n",
      "_________________________________________________________________\n"
     ]
    }
   ],
   "source": [
    "model2.summary()"
   ]
  },
  {
   "cell_type": "code",
   "execution_count": 203,
   "metadata": {},
   "outputs": [
    {
     "name": "stdout",
     "output_type": "stream",
     "text": [
      "Epoch 1/10\n",
      "625/625 [==============================] - 111s 176ms/step - loss: 0.6931 - acc: 0.5027 - val_loss: 0.6929 - val_acc: 0.5216\n",
      "Epoch 2/10\n",
      "625/625 [==============================] - 107s 170ms/step - loss: 0.6901 - acc: 0.5498 - val_loss: 0.6922 - val_acc: 0.5150\n",
      "Epoch 3/10\n",
      "625/625 [==============================] - 109s 174ms/step - loss: 0.6777 - acc: 0.5810 - val_loss: 0.6978 - val_acc: 0.5052\n",
      "Epoch 4/10\n",
      "625/625 [==============================] - 124s 198ms/step - loss: 0.6610 - acc: 0.6202 - val_loss: 0.7022 - val_acc: 0.5136\n",
      "Epoch 5/10\n",
      "625/625 [==============================] - 120s 193ms/step - loss: 0.6450 - acc: 0.6502 - val_loss: 0.7073 - val_acc: 0.5072\n",
      "Epoch 6/10\n",
      "625/625 [==============================] - 115s 183ms/step - loss: 0.6291 - acc: 0.6755 - val_loss: 0.7105 - val_acc: 0.5144\n",
      "Epoch 7/10\n",
      "625/625 [==============================] - 117s 187ms/step - loss: 0.6146 - acc: 0.6979 - val_loss: 0.7152 - val_acc: 0.5106\n",
      "Epoch 8/10\n",
      "625/625 [==============================] - 117s 187ms/step - loss: 0.6004 - acc: 0.7133 - val_loss: 0.7192 - val_acc: 0.5152\n",
      "Epoch 9/10\n",
      "625/625 [==============================] - 112s 179ms/step - loss: 0.5878 - acc: 0.7247 - val_loss: 0.7229 - val_acc: 0.5140\n",
      "Epoch 10/10\n",
      "625/625 [==============================] - 118s 188ms/step - loss: 0.5754 - acc: 0.7365 - val_loss: 0.7291 - val_acc: 0.5152\n"
     ]
    }
   ],
   "source": [
    "history2 = model2.fit(x_train2, y_train,\n",
    "                    epochs=10,\n",
    "                    batch_size=32,\n",
    "                    validation_split=0.2)"
   ]
  },
  {
   "cell_type": "code",
   "execution_count": 204,
   "metadata": {},
   "outputs": [
    {
     "data": {
      "image/png": "[encoded data removed]",
      "text/plain": [
       "<Figure size 432x288 with 1 Axes>"
      ]
     },
     "metadata": {
      "needs_background": "light"
     },
     "output_type": "display_data"
    },
    {
     "data": {
      "image/png": "[encoded data removed]",
      "text/plain": [
       "<Figure size 432x288 with 1 Axes>"
      ]
     },
     "metadata": {
      "needs_background": "light"
     },
     "output_type": "display_data"
    }
   ],
   "source": [
    "accuracy_loss_plot(history2)\n"
   ]
  },
  {
   "cell_type": "code",
   "execution_count": 205,
   "metadata": {},
   "outputs": [
    {
     "name": "stdout",
     "output_type": "stream",
     "text": [
      "782/782 [==============================] - 15s 20ms/step - loss: 0.7279 - acc: 0.5093 0s - loss: 0.7284 - acc: 0.\n"
     ]
    }
   ],
   "source": [
    "# Evaluate performance of the test dataset\n",
    "m2 = model2.evaluate(x_test2, y_test)"
   ]
  },
  {
   "cell_type": "code",
   "execution_count": 206,
   "metadata": {},
   "outputs": [
    {
     "name": "stdout",
     "output_type": "stream",
     "text": [
      "Accuracy Testing dataset: 50.93\n"
     ]
    },
    {
     "data": {
      "text/plain": [
       "[['BaselineModel_Maxlen_30: ', 74.86400008201599],\n",
       " ['Model2-Maxlen_80:       ', 50.92800259590149]]"
      ]
     },
     "execution_count": 206,
     "metadata": {},
     "output_type": "execute_result"
    }
   ],
   "source": [
    "\n",
    "accuracy = m2[1] *100\n",
    "print('Accuracy Testing dataset: %.2f' % accuracy)\n",
    "models.append(['Model2-Maxlen_80:       ',m2[1]*100])\n",
    "models"
   ]
  },
  {
   "cell_type": "markdown",
   "metadata": {},
   "source": [
    "Testing accuracy is only 51% which is almost near to the validation accuracy. But, we understand that when we increase the sequences of length of a sentence the accuracy decreases."
   ]
  },
  {
   "cell_type": "markdown",
   "metadata": {},
   "source": [
    "### Model 3 with vocabulary size as 10,000\n"
   ]
  },
  {
   "cell_type": "markdown",
   "metadata": {},
   "source": [
    "Reduce the maximum vocabulary length to 10000 and validate if it improves the accuracy of the model."
   ]
  },
  {
   "cell_type": "code",
   "execution_count": 207,
   "metadata": {},
   "outputs": [],
   "source": [
    "max_features = 10000  # number of words to consider as features\n",
    "maxlen = 80  # cut texts after this number of words (among top max_features most common words)\n",
    "embedding_dim = 50\n"
   ]
  },
  {
   "cell_type": "code",
   "execution_count": 208,
   "metadata": {},
   "outputs": [
    {
     "name": "stdout",
     "output_type": "stream",
     "text": [
      "Pad sequences (samples x time)\n"
     ]
    }
   ],
   "source": [
    "#Load data with vocabulary size as 10000\n",
    "(x_train, y_train), (x_test, y_test) = imdb.load_data(num_words=max_features)\n",
    "\n",
    "#Copy x_train and x_test to x_train3 and x_test3 for the building the model\n",
    "x_train3,x_test3 = pad_seq(x_train,x_test,maxlen)"
   ]
  },
  {
   "cell_type": "code",
   "execution_count": 209,
   "metadata": {},
   "outputs": [
    {
     "name": "stdout",
     "output_type": "stream",
     "text": [
      "x_train shape: (25000, 80)\n",
      "x_test shape: (25000, 80)\n"
     ]
    }
   ],
   "source": [
    "print('x_train shape:', x_train3.shape)\n",
    "print('x_test shape:', x_test3.shape)"
   ]
  },
  {
   "cell_type": "code",
   "execution_count": 210,
   "metadata": {},
   "outputs": [
    {
     "name": "stdout",
     "output_type": "stream",
     "text": [
      "Model: \"sequential_23\"\n",
      "_________________________________________________________________\n",
      " Layer (type)                Output Shape              Param #   \n",
      "=================================================================\n",
      " embedding_23 (Embedding)    (None, 80, 50)            500000    \n",
      "                                                                 \n",
      " simple_rnn_19 (SimpleRNN)   (None, 5)                 280       \n",
      "                                                                 \n",
      " dense_27 (Dense)            (None, 1)                 6         \n",
      "                                                                 \n",
      "=================================================================\n",
      "Total params: 500,286\n",
      "Trainable params: 500,286\n",
      "Non-trainable params: 0\n",
      "_________________________________________________________________\n"
     ]
    }
   ],
   "source": [
    "\n",
    "model3 = RNN_model(max_features,embedding_dim, maxlen)\n",
    "model3.summary()"
   ]
  },
  {
   "cell_type": "code",
   "execution_count": 211,
   "metadata": {},
   "outputs": [
    {
     "name": "stdout",
     "output_type": "stream",
     "text": [
      "Epoch 1/10\n",
      "625/625 [==============================] - 108s 171ms/step - loss: 0.6832 - acc: 0.5864 - val_loss: 0.6666 - val_acc: 0.6552\n",
      "Epoch 2/10\n",
      "625/625 [==============================] - 111s 177ms/step - loss: 0.6477 - acc: 0.6960 - val_loss: 0.6359 - val_acc: 0.7096\n",
      "Epoch 3/10\n",
      "625/625 [==============================] - 109s 175ms/step - loss: 0.6138 - acc: 0.7448 - val_loss: 0.6138 - val_acc: 0.7246\n",
      "Epoch 4/10\n",
      "625/625 [==============================] - 111s 178ms/step - loss: 0.5821 - acc: 0.7774 - val_loss: 0.5869 - val_acc: 0.7498\n",
      "Epoch 5/10\n",
      "625/625 [==============================] - 107s 172ms/step - loss: 0.5543 - acc: 0.7968 - val_loss: 0.5666 - val_acc: 0.7628\n",
      "Epoch 6/10\n",
      "625/625 [==============================] - 108s 173ms/step - loss: 0.5270 - acc: 0.8119 - val_loss: 0.5468 - val_acc: 0.7698\n",
      "Epoch 7/10\n",
      "625/625 [==============================] - 103s 164ms/step - loss: 0.4993 - acc: 0.8249 - val_loss: 0.5218 - val_acc: 0.7830\n",
      "Epoch 8/10\n",
      "625/625 [==============================] - 116s 185ms/step - loss: 0.4706 - acc: 0.8393 - val_loss: 0.5006 - val_acc: 0.7884\n",
      "Epoch 9/10\n",
      "625/625 [==============================] - 108s 172ms/step - loss: 0.4414 - acc: 0.8508 - val_loss: 0.4725 - val_acc: 0.8080\n",
      "Epoch 10/10\n",
      "625/625 [==============================] - 104s 166ms/step - loss: 0.4098 - acc: 0.8633 - val_loss: 0.4500 - val_acc: 0.8146\n"
     ]
    }
   ],
   "source": [
    "history3 = model3.fit(x_train3, y_train,\n",
    "                    epochs=10,\n",
    "                    batch_size=32,\n",
    "                    validation_split=0.2)"
   ]
  },
  {
   "cell_type": "code",
   "execution_count": 212,
   "metadata": {},
   "outputs": [
    {
     "data": {
      "image/png": "[encoded data removed]",
      "text/plain": [
       "<Figure size 432x288 with 1 Axes>"
      ]
     },
     "metadata": {
      "needs_background": "light"
     },
     "output_type": "display_data"
    },
    {
     "data": {
      "image/png": "[encoded data removed]",
      "text/plain": [
       "<Figure size 432x288 with 1 Axes>"
      ]
     },
     "metadata": {
      "needs_background": "light"
     },
     "output_type": "display_data"
    }
   ],
   "source": [
    "#Accuracy and Loss plot\n",
    "accuracy_loss_plot(history3)\n"
   ]
  },
  {
   "cell_type": "markdown",
   "metadata": {},
   "source": [
    "The accuracy increased when the max_features where reduced to 10,000"
   ]
  },
  {
   "cell_type": "code",
   "execution_count": 213,
   "metadata": {},
   "outputs": [
    {
     "name": "stdout",
     "output_type": "stream",
     "text": [
      "Testing accuracy and Loss \n",
      "782/782 [==============================] - 15s 20ms/step - loss: 0.4636 - acc: 0.7994\n"
     ]
    }
   ],
   "source": [
    "# Evaluate performance of the test dataset\n",
    "print(\"Testing accuracy and Loss \")\n",
    "m3 = model3.evaluate(x_test3, y_test)"
   ]
  },
  {
   "cell_type": "code",
   "execution_count": 214,
   "metadata": {},
   "outputs": [
    {
     "name": "stdout",
     "output_type": "stream",
     "text": [
      "Accuracy Testing dataset: 79.94\n"
     ]
    },
    {
     "data": {
      "text/plain": [
       "[['BaselineModel_Maxlen_30: ', 74.86400008201599],\n",
       " ['Model2-Maxlen_80:       ', 50.92800259590149],\n",
       " ['Model3-VocabSize_10,000', 79.94400262832642]]"
      ]
     },
     "execution_count": 214,
     "metadata": {},
     "output_type": "execute_result"
    }
   ],
   "source": [
    "\n",
    "accuracy = m3[1] *100\n",
    "print('Accuracy Testing dataset: %.2f' % accuracy)\n",
    "models.append(['Model3-VocabSize_10,000',m3[1]*100])\n",
    "models"
   ]
  },
  {
   "cell_type": "markdown",
   "metadata": {},
   "source": [
    "### Model 4 with vocabulary size as 40,000\n"
   ]
  },
  {
   "cell_type": "markdown",
   "metadata": {},
   "source": [
    "#### Increase the maximum vocabulary length to 40000 and validate if it improves the accuracy of the model."
   ]
  },
  {
   "cell_type": "code",
   "execution_count": 215,
   "metadata": {},
   "outputs": [],
   "source": [
    "max_features = 40000  # number of words to consider as features\n",
    "maxlen = 80  # cut texts after this number of words (among top max_features most common words)\n",
    "embedding_dim = 50\n"
   ]
  },
  {
   "cell_type": "code",
   "execution_count": 216,
   "metadata": {},
   "outputs": [
    {
     "name": "stdout",
     "output_type": "stream",
     "text": [
      "Pad sequences (samples x time)\n"
     ]
    }
   ],
   "source": [
    "#Load data with vocabulary size as 40000\n",
    "(x_train, y_train), (x_test, y_test) = imdb.load_data(num_words=max_features)\n",
    "\n",
    "#Copy x_train and x_test to x_train4 and x_test4 for the building the model\n",
    "x_train4,x_test4 = pad_seq(x_train,x_test,maxlen)"
   ]
  },
  {
   "cell_type": "code",
   "execution_count": 217,
   "metadata": {},
   "outputs": [
    {
     "name": "stdout",
     "output_type": "stream",
     "text": [
      "x_train shape: (25000, 80)\n",
      "x_test shape: (25000, 80)\n"
     ]
    }
   ],
   "source": [
    "print('x_train shape:', x_train4.shape)\n",
    "print('x_test shape:', x_test4.shape)"
   ]
  },
  {
   "cell_type": "code",
   "execution_count": 218,
   "metadata": {},
   "outputs": [
    {
     "name": "stdout",
     "output_type": "stream",
     "text": [
      "Model: \"sequential_24\"\n",
      "_________________________________________________________________\n",
      " Layer (type)                Output Shape              Param #   \n",
      "=================================================================\n",
      " embedding_24 (Embedding)    (None, 80, 50)            2000000   \n",
      "                                                                 \n",
      " simple_rnn_20 (SimpleRNN)   (None, 5)                 280       \n",
      "                                                                 \n",
      " dense_28 (Dense)            (None, 1)                 6         \n",
      "                                                                 \n",
      "=================================================================\n",
      "Total params: 2,000,286\n",
      "Trainable params: 2,000,286\n",
      "Non-trainable params: 0\n",
      "_________________________________________________________________\n"
     ]
    }
   ],
   "source": [
    "model4 = RNN_model(max_features,embedding_dim, maxlen)\n",
    "model4.summary()"
   ]
  },
  {
   "cell_type": "code",
   "execution_count": 219,
   "metadata": {},
   "outputs": [
    {
     "name": "stdout",
     "output_type": "stream",
     "text": [
      "Epoch 1/10\n",
      "625/625 [==============================] - 104s 166ms/step - loss: 0.6931 - acc: 0.5069 - val_loss: 0.6930 - val_acc: 0.5060\n",
      "Epoch 2/10\n",
      "625/625 [==============================] - 118s 189ms/step - loss: 0.6885 - acc: 0.5568 - val_loss: 0.6948 - val_acc: 0.5042\n",
      "Epoch 3/10\n",
      "625/625 [==============================] - 104s 166ms/step - loss: 0.6706 - acc: 0.5928 - val_loss: 0.7019 - val_acc: 0.5082\n",
      "Epoch 4/10\n",
      "625/625 [==============================] - 107s 171ms/step - loss: 0.6479 - acc: 0.6326 - val_loss: 0.7107 - val_acc: 0.5130\n",
      "Epoch 5/10\n",
      "625/625 [==============================] - 108s 173ms/step - loss: 0.6245 - acc: 0.6651 - val_loss: 0.7257 - val_acc: 0.5084\n",
      "Epoch 6/10\n",
      "625/625 [==============================] - 108s 173ms/step - loss: 0.6016 - acc: 0.6916 - val_loss: 0.7272 - val_acc: 0.5008\n",
      "Epoch 7/10\n",
      "625/625 [==============================] - 107s 171ms/step - loss: 0.5807 - acc: 0.7176 - val_loss: 0.7348 - val_acc: 0.5014\n",
      "Epoch 8/10\n",
      "625/625 [==============================] - 104s 166ms/step - loss: 0.5608 - acc: 0.7375 - val_loss: 0.7458 - val_acc: 0.4990\n",
      "Epoch 9/10\n",
      "625/625 [==============================] - 103s 165ms/step - loss: 0.5416 - acc: 0.7519 - val_loss: 0.7471 - val_acc: 0.5056\n",
      "Epoch 10/10\n",
      "625/625 [==============================] - 105s 168ms/step - loss: 0.5240 - acc: 0.7656 - val_loss: 0.7525 - val_acc: 0.5040\n"
     ]
    }
   ],
   "source": [
    "history4= model4.fit(x_train4, y_train,\n",
    "                    epochs=10,\n",
    "                    batch_size=32,\n",
    "                    validation_split=0.2)"
   ]
  },
  {
   "cell_type": "code",
   "execution_count": 220,
   "metadata": {},
   "outputs": [
    {
     "data": {
      "image/png": "[encoded data removed]",
      "text/plain": [
       "<Figure size 432x288 with 1 Axes>"
      ]
     },
     "metadata": {
      "needs_background": "light"
     },
     "output_type": "display_data"
    },
    {
     "data": {
      "image/png": "[encoded data removed]",
      "text/plain": [
       "<Figure size 432x288 with 1 Axes>"
      ]
     },
     "metadata": {
      "needs_background": "light"
     },
     "output_type": "display_data"
    }
   ],
   "source": [
    "#Accuracy and Loss plot\n",
    "accuracy_loss_plot(history4)\n"
   ]
  },
  {
   "cell_type": "markdown",
   "metadata": {},
   "source": [
    "When we increase the vocabulary size the accuracy increases."
   ]
  },
  {
   "cell_type": "code",
   "execution_count": 221,
   "metadata": {},
   "outputs": [
    {
     "name": "stdout",
     "output_type": "stream",
     "text": [
      "Testing accuracy and Loss \n",
      "782/782 [==============================] - 15s 20ms/step - loss: 0.7492 - acc: 0.5110\n",
      "Accuracy Testing dataset: 51.10\n"
     ]
    },
    {
     "data": {
      "text/plain": [
       "[['BaselineModel_Maxlen_30: ', 74.86400008201599],\n",
       " ['Model2-Maxlen_80:       ', 50.92800259590149],\n",
       " ['Model3-VocabSize_10,000', 79.94400262832642],\n",
       " ['Model4-VocabSize_40,000:', 51.099997758865356]]"
      ]
     },
     "execution_count": 221,
     "metadata": {},
     "output_type": "execute_result"
    }
   ],
   "source": [
    "\n",
    "# Evaluate performance of the test dataset\n",
    "print(\"Testing accuracy and Loss \")\n",
    "m4 = model4.evaluate(x_test4, y_test)\n",
    "accuracy = m4[1] *100\n",
    "print('Accuracy Testing dataset: %.2f' % accuracy)\n",
    "models.append(['Model4-VocabSize_40,000:',m4[1]*100])\n",
    "models"
   ]
  },
  {
   "cell_type": "markdown",
   "metadata": {},
   "source": [
    "The accuracy decreased when we increase the vocabulary size to 40000."
   ]
  },
  {
   "cell_type": "markdown",
   "metadata": {},
   "source": [
    "\n",
    "13- Try smaller and larger sizes of the RNN hidden dimension.  How does it affect the model performance?  How does it affect the run time?"
   ]
  },
  {
   "cell_type": "markdown",
   "metadata": {},
   "source": [
    "### Model 5 with larger hidden dimension for RNN"
   ]
  },
  {
   "cell_type": "code",
   "execution_count": 222,
   "metadata": {},
   "outputs": [
    {
     "name": "stdout",
     "output_type": "stream",
     "text": [
      "Pad sequences (samples x time)\n"
     ]
    }
   ],
   "source": [
    "max_features = 20000  \n",
    "maxlen = 30\n",
    "embedding_dim = 50\n",
    "\n",
    "#Load data with vocabulary size as 20000\n",
    "(x_train, y_train), (x_test, y_test) = imdb.load_data(num_words=max_features)\n",
    "\n",
    "#Copy x_train and x_test to x_train5 and x_test5 for the building the model\n",
    "x_train5,x_test5 = pad_seq(x_train,x_test,maxlen)\n",
    "\n"
   ]
  },
  {
   "cell_type": "code",
   "execution_count": 223,
   "metadata": {},
   "outputs": [],
   "source": [
    "def build_model5(max_features,embedding_dim, maxlen):\n",
    "    model = Sequential()\n",
    "    model.add(Embedding(max_features,embedding_dim, input_length=maxlen))\n",
    "    model.add(SimpleRNN(32))\n",
    "    model.add(Dense(10, activation='relu'))\n",
    "    model.add(Dense(10, activation='relu'))\n",
    "    model.add(Dense(1, activation='sigmoid'))\n",
    "              \n",
    "    model.compile(optimizer=optimizers.RMSprop(learning_rate=0.0001), \n",
    "                   loss='binary_crossentropy', \n",
    "                   metrics=['acc'])    \n",
    "    return model"
   ]
  },
  {
   "cell_type": "code",
   "execution_count": 224,
   "metadata": {
    "scrolled": false
   },
   "outputs": [
    {
     "name": "stdout",
     "output_type": "stream",
     "text": [
      "Model: \"sequential_25\"\n",
      "_________________________________________________________________\n",
      " Layer (type)                Output Shape              Param #   \n",
      "=================================================================\n",
      " embedding_25 (Embedding)    (None, 30, 50)            1000000   \n",
      "                                                                 \n",
      " simple_rnn_21 (SimpleRNN)   (None, 32)                2656      \n",
      "                                                                 \n",
      " dense_29 (Dense)            (None, 10)                330       \n",
      "                                                                 \n",
      " dense_30 (Dense)            (None, 10)                110       \n",
      "                                                                 \n",
      " dense_31 (Dense)            (None, 1)                 11        \n",
      "                                                                 \n",
      "=================================================================\n",
      "Total params: 1,003,107\n",
      "Trainable params: 1,003,107\n",
      "Non-trainable params: 0\n",
      "_________________________________________________________________\n"
     ]
    }
   ],
   "source": [
    "model5 = build_model5(max_features,embedding_dim, maxlen)\n",
    "model5.summary()"
   ]
  },
  {
   "cell_type": "code",
   "execution_count": 225,
   "metadata": {},
   "outputs": [
    {
     "name": "stdout",
     "output_type": "stream",
     "text": [
      "Epoch 1/10\n",
      "157/157 [==============================] - 18s 111ms/step - loss: 0.6929 - acc: 0.5109 - val_loss: 0.6922 - val_acc: 0.5206\n",
      "Epoch 2/10\n",
      "157/157 [==============================] - 18s 114ms/step - loss: 0.6872 - acc: 0.5736 - val_loss: 0.6885 - val_acc: 0.5502\n",
      "Epoch 3/10\n",
      "157/157 [==============================] - 17s 111ms/step - loss: 0.6717 - acc: 0.6299 - val_loss: 0.6660 - val_acc: 0.6288\n",
      "Epoch 4/10\n",
      "157/157 [==============================] - 17s 111ms/step - loss: 0.6373 - acc: 0.6847 - val_loss: 0.6353 - val_acc: 0.6688\n",
      "Epoch 5/10\n",
      "157/157 [==============================] - 17s 109ms/step - loss: 0.5894 - acc: 0.7283 - val_loss: 0.6005 - val_acc: 0.6972\n",
      "Epoch 6/10\n",
      "157/157 [==============================] - 20s 125ms/step - loss: 0.5378 - acc: 0.7663 - val_loss: 0.5726 - val_acc: 0.7128\n",
      "Epoch 7/10\n",
      "157/157 [==============================] - 20s 125ms/step - loss: 0.4884 - acc: 0.7938 - val_loss: 0.5459 - val_acc: 0.7312\n",
      "Epoch 8/10\n",
      "157/157 [==============================] - 18s 117ms/step - loss: 0.4423 - acc: 0.8187 - val_loss: 0.5420 - val_acc: 0.7266\n",
      "Epoch 9/10\n",
      "157/157 [==============================] - 20s 127ms/step - loss: 0.4009 - acc: 0.8384 - val_loss: 0.5364 - val_acc: 0.7422\n",
      "Epoch 10/10\n",
      "157/157 [==============================] - 20s 126ms/step - loss: 0.3655 - acc: 0.8544 - val_loss: 0.5277 - val_acc: 0.7380\n",
      "Time:  185.5750928999987\n"
     ]
    }
   ],
   "source": [
    "# set a timer to measure training time\n",
    "start = timeit.default_timer()\n",
    "\n",
    "history5= model5.fit(x_train5, y_train,\n",
    "                    epochs=10,\n",
    "                    batch_size=128,\n",
    "                    validation_split=0.2)\n",
    "                    \n",
    "stop = timeit.default_timer()\n",
    "print('Time: ', stop - start) "
   ]
  },
  {
   "cell_type": "code",
   "execution_count": 226,
   "metadata": {
    "scrolled": false
   },
   "outputs": [
    {
     "data": {
      "image/png": "[encoded data removed]",
      "text/plain": [
       "<Figure size 432x288 with 1 Axes>"
      ]
     },
     "metadata": {
      "needs_background": "light"
     },
     "output_type": "display_data"
    },
    {
     "data": {
      "image/png": "[encoded data removed]",
      "text/plain": [
       "<Figure size 432x288 with 1 Axes>"
      ]
     },
     "metadata": {
      "needs_background": "light"
     },
     "output_type": "display_data"
    }
   ],
   "source": [
    "#Accuracy and Loss plot\n",
    "accuracy_loss_plot(history5)\n"
   ]
  },
  {
   "cell_type": "code",
   "execution_count": 227,
   "metadata": {},
   "outputs": [
    {
     "name": "stdout",
     "output_type": "stream",
     "text": [
      "Testing accuracy and Loss \n",
      "782/782 [==============================] - 9s 12ms/step - loss: 0.5309 - acc: 0.7372\n",
      "Accuracy Testing dataset: 73.72\n"
     ]
    }
   ],
   "source": [
    "# Evaluate performance of the test dataset\n",
    "print(\"Testing accuracy and Loss \")\n",
    "m5 = model5.evaluate(x_test5, y_test)\n",
    "accuracy = m5[1] *100\n",
    "print('Accuracy Testing dataset: %.2f' % accuracy)\n",
    "models.append(['Model5-MoreHiddenDimen ',m5[1]*100])\n"
   ]
  },
  {
   "cell_type": "markdown",
   "metadata": {},
   "source": [
    "### Model 6 with smaller hidden dimension"
   ]
  },
  {
   "cell_type": "code",
   "execution_count": 228,
   "metadata": {},
   "outputs": [
    {
     "name": "stdout",
     "output_type": "stream",
     "text": [
      "Pad sequences (samples x time)\n"
     ]
    }
   ],
   "source": [
    "max_features = 20000  \n",
    "maxlen = 30\n",
    "embedding_dim = 50\n",
    "\n",
    "#Load data with vocabulary size as 20000\n",
    "(x_train, y_train), (x_test, y_test) = imdb.load_data(num_words=max_features)\n",
    "\n",
    "#Copy x_train and x_test to x_train5 and x_test5 for the building the model\n",
    "x_train6,x_test6 = pad_seq(x_train,x_test,maxlen)\n",
    "\n"
   ]
  },
  {
   "cell_type": "code",
   "execution_count": 229,
   "metadata": {},
   "outputs": [],
   "source": [
    "def build_model6(max_features,embedding_dim, maxlen):\n",
    "    model = Sequential()\n",
    "    model.add(Embedding(max_features,embedding_dim, input_length=maxlen))\n",
    "    model.add(SimpleRNN(10))\n",
    "    model.add(Dense(1, activation='sigmoid'))\n",
    "              \n",
    "    model.compile(optimizer=optimizers.RMSprop(learning_rate=0.0001), \n",
    "                   loss='binary_crossentropy', \n",
    "                   metrics=['acc'])    \n",
    "    return model"
   ]
  },
  {
   "cell_type": "code",
   "execution_count": 230,
   "metadata": {
    "scrolled": false
   },
   "outputs": [
    {
     "name": "stdout",
     "output_type": "stream",
     "text": [
      "Model: \"sequential_26\"\n",
      "_________________________________________________________________\n",
      " Layer (type)                Output Shape              Param #   \n",
      "=================================================================\n",
      " embedding_26 (Embedding)    (None, 30, 50)            1000000   \n",
      "                                                                 \n",
      " simple_rnn_22 (SimpleRNN)   (None, 10)                610       \n",
      "                                                                 \n",
      " dense_32 (Dense)            (None, 1)                 11        \n",
      "                                                                 \n",
      "=================================================================\n",
      "Total params: 1,000,621\n",
      "Trainable params: 1,000,621\n",
      "Non-trainable params: 0\n",
      "_________________________________________________________________\n"
     ]
    }
   ],
   "source": [
    "model6 = build_model6(max_features,embedding_dim, maxlen)\n",
    "model6.summary()"
   ]
  },
  {
   "cell_type": "code",
   "execution_count": 231,
   "metadata": {},
   "outputs": [
    {
     "name": "stdout",
     "output_type": "stream",
     "text": [
      "Epoch 1/10\n",
      "157/157 [==============================] - 19s 114ms/step - loss: 0.6883 - acc: 0.5387 - val_loss: 0.6748 - val_acc: 0.5946\n",
      "Epoch 2/10\n",
      "157/157 [==============================] - 18s 117ms/step - loss: 0.6416 - acc: 0.6665 - val_loss: 0.6336 - val_acc: 0.6652\n",
      "Epoch 3/10\n",
      "157/157 [==============================] - 18s 112ms/step - loss: 0.5958 - acc: 0.7167 - val_loss: 0.6093 - val_acc: 0.6842\n",
      "Epoch 4/10\n",
      "157/157 [==============================] - 18s 115ms/step - loss: 0.5592 - acc: 0.7490 - val_loss: 0.5916 - val_acc: 0.6984\n",
      "Epoch 5/10\n",
      "157/157 [==============================] - 18s 112ms/step - loss: 0.5262 - acc: 0.7733 - val_loss: 0.5764 - val_acc: 0.7048\n",
      "Epoch 6/10\n",
      "157/157 [==============================] - 18s 115ms/step - loss: 0.4961 - acc: 0.7926 - val_loss: 0.5630 - val_acc: 0.7172\n",
      "Epoch 7/10\n",
      "157/157 [==============================] - 18s 112ms/step - loss: 0.4685 - acc: 0.8106 - val_loss: 0.5542 - val_acc: 0.7198\n",
      "Epoch 8/10\n",
      "157/157 [==============================] - 18s 112ms/step - loss: 0.4432 - acc: 0.8250 - val_loss: 0.5469 - val_acc: 0.7220\n",
      "Epoch 9/10\n",
      "157/157 [==============================] - 20s 126ms/step - loss: 0.4199 - acc: 0.8361 - val_loss: 0.5411 - val_acc: 0.7274\n",
      "Epoch 10/10\n",
      "157/157 [==============================] - 20s 126ms/step - loss: 0.3985 - acc: 0.8468 - val_loss: 0.5377 - val_acc: 0.7300\n",
      "Time:  183.030754899999\n"
     ]
    }
   ],
   "source": [
    "# set a timer to measure training time\n",
    "start = timeit.default_timer()\n",
    "\n",
    "history6= model6.fit(x_train6, y_train,\n",
    "                    epochs=10,\n",
    "                    batch_size=128,\n",
    "                    validation_split=0.2)\n",
    "                    \n",
    "stop = timeit.default_timer()\n",
    "print('Time: ', stop - start) "
   ]
  },
  {
   "cell_type": "code",
   "execution_count": 232,
   "metadata": {
    "scrolled": false
   },
   "outputs": [
    {
     "data": {
      "image/png": "[encoded data removed]",
      "text/plain": [
       "<Figure size 432x288 with 1 Axes>"
      ]
     },
     "metadata": {
      "needs_background": "light"
     },
     "output_type": "display_data"
    },
    {
     "data": {
      "image/png": "[encoded data removed]",
      "text/plain": [
       "<Figure size 432x288 with 1 Axes>"
      ]
     },
     "metadata": {
      "needs_background": "light"
     },
     "output_type": "display_data"
    }
   ],
   "source": [
    "#Accuracy and Loss plot\n",
    "accuracy_loss_plot(history6)\n"
   ]
  },
  {
   "cell_type": "code",
   "execution_count": 233,
   "metadata": {},
   "outputs": [
    {
     "name": "stdout",
     "output_type": "stream",
     "text": [
      "Testing accuracy and Loss \n",
      "782/782 [==============================] - 9s 11ms/step - loss: 0.5373 - acc: 0.7312\n",
      "Accuracy Testing dataset: 73.12\n"
     ]
    }
   ],
   "source": [
    "# Evaluate performance of the test dataset\n",
    "print(\"Testing accuracy and Loss \")\n",
    "m6 = model6.evaluate(x_test6, y_test)\n",
    "accuracy = m6[1] *100\n",
    "print('Accuracy Testing dataset: %.2f' % accuracy)\n",
    "models.append(['Model6-LessHiddenDimen ',m6[1]*100])\n"
   ]
  },
  {
   "cell_type": "markdown",
   "metadata": {},
   "source": [
    "Time taken by the model with less hidden layers is almost the same as the model with more hidden layers. Also the model with more hidden dimension have almost the same accuracy compared to model with lower hidden dimension"
   ]
  },
  {
   "cell_type": "markdown",
   "metadata": {},
   "source": [
    "## Train LSTM networks"
   ]
  },
  {
   "cell_type": "markdown",
   "metadata": {},
   "source": [
    "\n",
    "14- Build LSTM and GRU networks and compare their performance (accuracy and execution time) with the SimpleRNN. What is your conclusion?"
   ]
  },
  {
   "cell_type": "code",
   "execution_count": 234,
   "metadata": {},
   "outputs": [],
   "source": [
    "def build_model_lstm(max_features,embedding_dim, maxlen):\n",
    "    model = Sequential()\n",
    "    model.add(Embedding(max_features,embedding_dim, input_length=maxlen))\n",
    "    model.add(LSTM(128, dropout=0.2))\n",
    "    model.add(Dense(1, activation='sigmoid'))\n",
    "                 \n",
    "    model.compile(optimizer=optimizers.RMSprop(learning_rate=0.0001), \n",
    "                   loss='binary_crossentropy', \n",
    "                   metrics=['acc'])    \n",
    "    return model"
   ]
  },
  {
   "cell_type": "code",
   "execution_count": 235,
   "metadata": {},
   "outputs": [
    {
     "name": "stdout",
     "output_type": "stream",
     "text": [
      "Pad sequences (samples x time)\n"
     ]
    }
   ],
   "source": [
    "max_features = 20000  \n",
    "maxlen = 80\n",
    "embedding_dim = 50\n",
    "\n",
    "#Load data with vocabulary size as 20000\n",
    "(x_train, y_train), (x_test, y_test) = imdb.load_data(num_words=max_features)\n",
    "\n",
    "#Copy x_train and x_test to x_train5 and x_test5 for the building the model\n",
    "x_train7,x_test7 = pad_seq(x_train,x_test,maxlen)\n",
    "\n"
   ]
  },
  {
   "cell_type": "code",
   "execution_count": 236,
   "metadata": {
    "scrolled": true
   },
   "outputs": [
    {
     "name": "stdout",
     "output_type": "stream",
     "text": [
      "Model: \"sequential_27\"\n",
      "_________________________________________________________________\n",
      " Layer (type)                Output Shape              Param #   \n",
      "=================================================================\n",
      " embedding_27 (Embedding)    (None, 80, 50)            1000000   \n",
      "                                                                 \n",
      " lstm_2 (LSTM)               (None, 128)               91648     \n",
      "                                                                 \n",
      " dense_33 (Dense)            (None, 1)                 129       \n",
      "                                                                 \n",
      "=================================================================\n",
      "Total params: 1,091,777\n",
      "Trainable params: 1,091,777\n",
      "Non-trainable params: 0\n",
      "_________________________________________________________________\n"
     ]
    }
   ],
   "source": [
    "model_lstm = build_model_lstm(max_features,embedding_dim, maxlen)\n",
    "model_lstm.summary()"
   ]
  },
  {
   "cell_type": "code",
   "execution_count": 237,
   "metadata": {},
   "outputs": [
    {
     "data": {
      "text/plain": [
       "1091777"
      ]
     },
     "execution_count": 237,
     "metadata": {},
     "output_type": "execute_result"
    }
   ],
   "source": [
    "model_lstm.count_params()"
   ]
  },
  {
   "cell_type": "code",
   "execution_count": 238,
   "metadata": {},
   "outputs": [
    {
     "name": "stdout",
     "output_type": "stream",
     "text": [
      "Epoch 1/10\n",
      "625/625 [==============================] - 12s 16ms/step - loss: 0.6324 - acc: 0.6360 - val_loss: 0.5342 - val_acc: 0.7452\n",
      "Epoch 2/10\n",
      "625/625 [==============================] - 10s 15ms/step - loss: 0.4668 - acc: 0.7861 - val_loss: 0.4414 - val_acc: 0.7942\n",
      "Epoch 3/10\n",
      "625/625 [==============================] - 10s 15ms/step - loss: 0.3842 - acc: 0.8350 - val_loss: 0.3839 - val_acc: 0.8246\n",
      "Epoch 4/10\n",
      "625/625 [==============================] - 10s 15ms/step - loss: 0.3396 - acc: 0.8575 - val_loss: 0.3715 - val_acc: 0.8314\n",
      "Epoch 5/10\n",
      "625/625 [==============================] - 10s 15ms/step - loss: 0.3089 - acc: 0.8733 - val_loss: 0.3557 - val_acc: 0.8396\n",
      "Epoch 6/10\n",
      "625/625 [==============================] - 10s 15ms/step - loss: 0.2888 - acc: 0.8806 - val_loss: 0.3458 - val_acc: 0.8450\n",
      "Epoch 7/10\n",
      "625/625 [==============================] - 10s 15ms/step - loss: 0.2731 - acc: 0.8891 - val_loss: 0.3422 - val_acc: 0.8458\n",
      "Epoch 8/10\n",
      "625/625 [==============================] - 10s 15ms/step - loss: 0.2588 - acc: 0.8943 - val_loss: 0.3517 - val_acc: 0.8464\n",
      "Epoch 9/10\n",
      "625/625 [==============================] - 10s 15ms/step - loss: 0.2511 - acc: 0.8993 - val_loss: 0.3511 - val_acc: 0.8494\n",
      "Epoch 10/10\n",
      "625/625 [==============================] - 10s 15ms/step - loss: 0.2416 - acc: 0.9046 - val_loss: 0.3761 - val_acc: 0.8460\n",
      "Time:  97.79508460000216\n"
     ]
    }
   ],
   "source": [
    "# set a timer to measure training time\n",
    "start = timeit.default_timer()\n",
    "\n",
    "history7= model_lstm.fit(x_train7, y_train,\n",
    "                    epochs=10,\n",
    "                    batch_size=32,\n",
    "                    validation_split=0.2)\n",
    "                    \n",
    "stop = timeit.default_timer()\n",
    "print('Time: ', stop - start) "
   ]
  },
  {
   "cell_type": "code",
   "execution_count": 239,
   "metadata": {
    "scrolled": true
   },
   "outputs": [
    {
     "data": {
      "image/png": "[encoded data removed]",
      "text/plain": [
       "<Figure size 432x288 with 1 Axes>"
      ]
     },
     "metadata": {
      "needs_background": "light"
     },
     "output_type": "display_data"
    },
    {
     "data": {
      "image/png": "[encoded data removed]",
      "text/plain": [
       "<Figure size 432x288 with 1 Axes>"
      ]
     },
     "metadata": {
      "needs_background": "light"
     },
     "output_type": "display_data"
    }
   ],
   "source": [
    "#Accuracy and Loss plot\n",
    "accuracy_loss_plot(history7)\n"
   ]
  },
  {
   "cell_type": "code",
   "execution_count": 240,
   "metadata": {},
   "outputs": [
    {
     "name": "stdout",
     "output_type": "stream",
     "text": [
      "Testing accuracy and Loss \n",
      "782/782 [==============================] - 6s 8ms/step - loss: 0.3800 - acc: 0.8449A: 0s - loss:\n",
      "Accuracy Testing dataset: 84.49\n"
     ]
    }
   ],
   "source": [
    "# Evaluate performance of the test dataset\n",
    "print(\"Testing accuracy and Loss \")\n",
    "m7 = model_lstm.evaluate(x_test7, y_test)\n",
    "accuracy = m7[1] *100\n",
    "print('Accuracy Testing dataset: %.2f' % accuracy)\n",
    "models.append(['Model6 - LSTM          ',m7[1]*100])\n"
   ]
  },
  {
   "cell_type": "markdown",
   "metadata": {},
   "source": [
    "LSTM has a better accuracy compared to SimpleRNN models. Moreover, the time taken by LSTM is far less compared to SimpleRNN."
   ]
  },
  {
   "cell_type": "markdown",
   "metadata": {},
   "source": [
    "## Train GRU networks"
   ]
  },
  {
   "cell_type": "code",
   "execution_count": 241,
   "metadata": {},
   "outputs": [
    {
     "name": "stdout",
     "output_type": "stream",
     "text": [
      "Pad sequences (samples x time)\n"
     ]
    }
   ],
   "source": [
    "max_features = 20000  \n",
    "maxlen = 80\n",
    "embedding_dim = 50\n",
    "\n",
    "#Load data with vocabulary size as 20000\n",
    "(x_train, y_train), (x_test, y_test) = imdb.load_data(num_words=max_features)\n",
    "\n",
    "#Copy x_train and x_test to x_train5 and x_test5 for the building the model\n",
    "x_train8,x_test8 = pad_seq(x_train,x_test,maxlen)\n",
    "\n"
   ]
  },
  {
   "cell_type": "code",
   "execution_count": 242,
   "metadata": {},
   "outputs": [],
   "source": [
    "def build_model_gru(max_features,embedding_dim, maxlen):\n",
    "    model = Sequential()\n",
    "    model.add(Embedding(max_features,embedding_dim, input_length=maxlen))\n",
    "    model.add(GRU(32, dropout=0.2, recurrent_dropout=0.2))\n",
    "    model.add(Dense(30, activation='relu'))\n",
    "    model.add(Dense(1, activation='sigmoid'))\n",
    "                 \n",
    "    model.compile(optimizer=optimizers.RMSprop(learning_rate=0.0001), \n",
    "                   loss='binary_crossentropy', \n",
    "                   metrics=['acc'])    \n",
    "    return model"
   ]
  },
  {
   "cell_type": "code",
   "execution_count": 243,
   "metadata": {
    "scrolled": true
   },
   "outputs": [
    {
     "name": "stdout",
     "output_type": "stream",
     "text": [
      "Model: \"sequential_28\"\n",
      "_________________________________________________________________\n",
      " Layer (type)                Output Shape              Param #   \n",
      "=================================================================\n",
      " embedding_28 (Embedding)    (None, 80, 50)            1000000   \n",
      "                                                                 \n",
      " gru_2 (GRU)                 (None, 32)                7968      \n",
      "                                                                 \n",
      " dense_34 (Dense)            (None, 30)                990       \n",
      "                                                                 \n",
      " dense_35 (Dense)            (None, 1)                 31        \n",
      "                                                                 \n",
      "=================================================================\n",
      "Total params: 1,008,989\n",
      "Trainable params: 1,008,989\n",
      "Non-trainable params: 0\n",
      "_________________________________________________________________\n"
     ]
    }
   ],
   "source": [
    "model_gru = build_model_gru(max_features,embedding_dim, maxlen)\n",
    "model_gru.summary()"
   ]
  },
  {
   "cell_type": "code",
   "execution_count": 244,
   "metadata": {},
   "outputs": [
    {
     "data": {
      "text/plain": [
       "1008989"
      ]
     },
     "execution_count": 244,
     "metadata": {},
     "output_type": "execute_result"
    }
   ],
   "source": [
    "model_gru.count_params()"
   ]
  },
  {
   "cell_type": "code",
   "execution_count": 245,
   "metadata": {},
   "outputs": [
    {
     "name": "stdout",
     "output_type": "stream",
     "text": [
      "Epoch 1/10\n",
      "313/313 [==============================] - 426s 1s/step - loss: 0.6915 - acc: 0.5476 - val_loss: 0.6889 - val_acc: 0.5782\n",
      "Epoch 2/10\n",
      "313/313 [==============================] - 425s 1s/step - loss: 0.6814 - acc: 0.6198 - val_loss: 0.6726 - val_acc: 0.6382\n",
      "Epoch 3/10\n",
      "313/313 [==============================] - 433s 1s/step - loss: 0.6419 - acc: 0.6905 - val_loss: 0.6037 - val_acc: 0.7078\n",
      "Epoch 4/10\n",
      "313/313 [==============================] - 427s 1s/step - loss: 0.4820 - acc: 0.7841 - val_loss: 0.4267 - val_acc: 0.8018\n",
      "Epoch 5/10\n",
      "313/313 [==============================] - 422s 1s/step - loss: 0.3884 - acc: 0.8304 - val_loss: 0.3893 - val_acc: 0.8202\n",
      "Epoch 6/10\n",
      "313/313 [==============================] - 426s 1s/step - loss: 0.3464 - acc: 0.8536 - val_loss: 0.3687 - val_acc: 0.8346\n",
      "Epoch 7/10\n",
      "313/313 [==============================] - 424s 1s/step - loss: 0.3196 - acc: 0.8687 - val_loss: 0.3612 - val_acc: 0.8388\n",
      "Epoch 8/10\n",
      "313/313 [==============================] - 426s 1s/step - loss: 0.2970 - acc: 0.8785 - val_loss: 0.3515 - val_acc: 0.8440\n",
      "Epoch 9/10\n",
      "313/313 [==============================] - 423s 1s/step - loss: 0.2765 - acc: 0.8874 - val_loss: 0.3533 - val_acc: 0.8492\n",
      "Epoch 10/10\n",
      "313/313 [==============================] - 440s 1s/step - loss: 0.2625 - acc: 0.8942 - val_loss: 0.3490 - val_acc: 0.8508\n",
      "Time:  4271.6003316999995\n"
     ]
    }
   ],
   "source": [
    "\n",
    "# set a timer to measure training time\n",
    "start = timeit.default_timer()\n",
    "\n",
    "history8= model_gru.fit(x_train8, y_train,\n",
    "                    epochs=10,\n",
    "                    batch_size=64,\n",
    "                    validation_split=0.2)\n",
    "                    \n",
    "stop = timeit.default_timer()\n",
    "print('Time: ', stop - start) "
   ]
  },
  {
   "cell_type": "code",
   "execution_count": 246,
   "metadata": {
    "scrolled": true
   },
   "outputs": [
    {
     "data": {
      "image/png": "[encoded data removed]",
      "text/plain": [
       "<Figure size 432x288 with 1 Axes>"
      ]
     },
     "metadata": {
      "needs_background": "light"
     },
     "output_type": "display_data"
    },
    {
     "data": {
      "image/png": "[encoded data removed]",
      "text/plain": [
       "<Figure size 432x288 with 1 Axes>"
      ]
     },
     "metadata": {
      "needs_background": "light"
     },
     "output_type": "display_data"
    }
   ],
   "source": [
    "#Accuracy and Loss plot\n",
    "accuracy_loss_plot(history8)\n"
   ]
  },
  {
   "cell_type": "markdown",
   "metadata": {},
   "source": [
    "The GRU is gives the best accuracy. However, the model takes more time than all the other models."
   ]
  },
  {
   "cell_type": "code",
   "execution_count": 247,
   "metadata": {},
   "outputs": [
    {
     "name": "stdout",
     "output_type": "stream",
     "text": [
      "Testing accuracy and Loss \n",
      "782/782 [==============================] - 72s 92ms/step - loss: 0.3574 - acc: 0.8454\n",
      "Accuracy Testing dataset: 84.54\n"
     ]
    }
   ],
   "source": [
    "# Evaluate performance of the test dataset\n",
    "print(\"Testing accuracy and Loss \")\n",
    "m8 = model_gru.evaluate(x_test8, y_test)\n",
    "accuracy = m8[1] *100\n",
    "print('Accuracy Testing dataset: %.2f' % accuracy)\n",
    "models.append(['Model8 - GRU           ',m8[1]*100])\n"
   ]
  },
  {
   "cell_type": "code",
   "execution_count": 248,
   "metadata": {},
   "outputs": [
    {
     "name": "stdout",
     "output_type": "stream",
     "text": [
      "Accuracy of all the models : \n"
     ]
    },
    {
     "data": {
      "text/plain": [
       "[['BaselineModel_Maxlen_30: ', 74.86400008201599],\n",
       " ['Model2-Maxlen_80:       ', 50.92800259590149],\n",
       " ['Model3-VocabSize_10,000', 79.94400262832642],\n",
       " ['Model4-VocabSize_40,000:', 51.099997758865356],\n",
       " ['Model5-MoreHiddenDimen ', 73.72400164604187],\n",
       " ['Model6-LessHiddenDimen ', 73.12399744987488],\n",
       " ['Model6 - LSTM          ', 84.49199795722961],\n",
       " ['Model8 - GRU           ', 84.54399704933167]]"
      ]
     },
     "execution_count": 248,
     "metadata": {},
     "output_type": "execute_result"
    }
   ],
   "source": [
    "# Plot the accuracies of a list of trained models.\n",
    "print(\"Accuracy of all the models : \")\n",
    "models"
   ]
  },
  {
   "cell_type": "markdown",
   "metadata": {},
   "source": [
    "Based on the accuracy of different models, it is clear that GRU has the highest accuracy. Hence, we save the Model with GRU.\n",
    "\n",
    "In terms of time taken, we see that LSTM model takes the least amount of time and GRU takes more time than other models."
   ]
  },
  {
   "cell_type": "markdown",
   "metadata": {},
   "source": [
    "Saving the model"
   ]
  },
  {
   "cell_type": "code",
   "execution_count": 249,
   "metadata": {},
   "outputs": [],
   "source": [
    "model_gru.save('Imdb-model.h5')"
   ]
  },
  {
   "cell_type": "markdown",
   "metadata": {},
   "source": [
    "Predictions on Test with the best model"
   ]
  },
  {
   "cell_type": "code",
   "execution_count": 252,
   "metadata": {
    "scrolled": true
   },
   "outputs": [],
   "source": [
    "predictions = model_gru.predict(x_test8)\n"
   ]
  },
  {
   "cell_type": "markdown",
   "metadata": {},
   "source": [
    "Predict on a random input and compare it with actual value"
   ]
  },
  {
   "cell_type": "code",
   "execution_count": 254,
   "metadata": {},
   "outputs": [
    {
     "data": {
      "text/plain": [
       "array([ 1669,   398,   229,    10,    10,    13,  2822,   670,  5304,\n",
       "          14,     9,    31,     7,    27,   111,   108,    15,  2033,\n",
       "          19,  7836,  1429,   875,   551,    14,    22,     9,  1193,\n",
       "          21,    45,  4829,     5,    45,   252,     8, 12508,     6,\n",
       "         565,   921,  3639,    39,     4,   529,    48,    25,   181,\n",
       "           8,    67,    35,  1732,    22,    49,   238,    60,   135,\n",
       "        1162,    14,     9,   290,     4,    58,    10,    10,   472,\n",
       "          45,    55,   878,     8,   169,    11,   374,  5687,    25,\n",
       "         203,    28,     8,   818,    12,   125,     4,  3077])"
      ]
     },
     "execution_count": 254,
     "metadata": {},
     "output_type": "execute_result"
    }
   ],
   "source": [
    "x_test8[1]"
   ]
  },
  {
   "cell_type": "code",
   "execution_count": 255,
   "metadata": {},
   "outputs": [
    {
     "data": {
      "text/plain": [
       "1"
      ]
     },
     "execution_count": 255,
     "metadata": {},
     "output_type": "execute_result"
    }
   ],
   "source": [
    "y_test[1]"
   ]
  },
  {
   "cell_type": "code",
   "execution_count": 258,
   "metadata": {},
   "outputs": [
    {
     "data": {
      "text/plain": [
       "array([0.9614102], dtype=float32)"
      ]
     },
     "execution_count": 258,
     "metadata": {},
     "output_type": "execute_result"
    }
   ],
   "source": [
    "predictions[1]"
   ]
  },
  {
   "cell_type": "markdown",
   "metadata": {},
   "source": [
    "Prediction by Model_gru on the sample input sequence is correct"
   ]
  }
 ],
 "metadata": {
  "kernelspec": {
   "display_name": "Python 3",
   "language": "python",
   "name": "python3"
  },
  "language_info": {
   "codemirror_mode": {
    "name": "ipython",
    "version": 3
   },
   "file_extension": ".py",
   "mimetype": "text/x-python",
   "name": "python",
   "nbconvert_exporter": "python",
   "pygments_lexer": "ipython3",
   "version": "3.8.5"
  },
  "toc": {
   "base_numbering": 1,
   "nav_menu": {},
   "number_sections": true,
   "sideBar": true,
   "skip_h1_title": false,
   "title_cell": "Table of Contents",
   "title_sidebar": "Contents",
   "toc_cell": false,
   "toc_position": {},
   "toc_section_display": true,
   "toc_window_display": false
  },
  "varInspector": {
   "cols": {
    "lenName": 16,
    "lenType": 16,
    "lenVar": 40
   },
   "kernels_config": {
    "python": {
     "delete_cmd_postfix": "",
     "delete_cmd_prefix": "del ",
     "library": "var_list.py",
     "varRefreshCmd": "print(var_dic_list())"
    },
    "r": {
     "delete_cmd_postfix": ") ",
     "delete_cmd_prefix": "rm(",
     "library": "var_list.r",
     "varRefreshCmd": "cat(var_dic_list()) "
    }
   },
   "types_to_exclude": [
    "module",
    "function",
    "builtin_function_or_method",
    "instance",
    "_Feature"
   ],
   "window_display": true
  }
 },
 "nbformat": 4,
 "nbformat_minor": 1
}
